{
 "cells": [
  {
   "cell_type": "markdown",
   "id": "46158878",
   "metadata": {},
   "source": [
    "# A Python Primer "
   ]
  },
  {
   "cell_type": "code",
   "execution_count": 6,
   "id": "4a9342cf",
   "metadata": {},
   "outputs": [],
   "source": [
    "import numpy as np"
   ]
  },
  {
   "cell_type": "raw",
   "id": "ab00385b",
   "metadata": {},
   "source": [
    "arr = np.array([1,2,3])\n",
    "print(arr)"
   ]
  },
  {
   "cell_type": "code",
   "execution_count": 7,
   "id": "c4da44a6",
   "metadata": {},
   "outputs": [
    {
     "output_type": "stream",
     "name": "stdout",
     "text": [
      "hi\n"
     ]
    }
   ],
   "source": [
    "print (\"hi\")"
   ]
  },
  {
   "cell_type": "markdown",
   "id": "c6e0f106",
   "metadata": {},
   "source": [
    "### Swap Value of 2 Variable"
   ]
  },
  {
   "cell_type": "code",
   "execution_count": 4,
   "id": "1a63fa3d",
   "metadata": {
    "scrolled": true
   },
   "outputs": [
    {
     "output_type": "stream",
     "name": "stdout",
     "text": [
      "10 20\n20 10\n"
     ]
    }
   ],
   "source": [
    "first_num = 10\n",
    "second_num = 20\n",
    "print(first_num, second_num)\n",
    "first_num, second_num = second_num, first_num\n",
    "print(first_num, second_num)"
   ]
  },
  {
   "cell_type": "markdown",
   "id": "cccffeb7",
   "metadata": {},
   "source": [
    "### Snake Case vs Camel Case"
   ]
  },
  {
   "source": [
    "snake_case_variable_naming vs CamelCaseNaming"
   ],
   "cell_type": "markdown",
   "metadata": {}
  },
  {
   "cell_type": "code",
   "execution_count": 4,
   "metadata": {},
   "outputs": [],
   "source": []
  },
  {
   "cell_type": "markdown",
   "id": "2233c63f",
   "metadata": {},
   "source": [
    "### None Type: `None` (similar to `null`)"
   ]
  },
  {
   "source": [
    "a = None \n",
    "print(a)"
   ],
   "cell_type": "code",
   "metadata": {},
   "execution_count": 7,
   "outputs": [
    {
     "output_type": "stream",
     "name": "stdout",
     "text": [
      "None\n"
     ]
    }
   ]
  },
  {
   "source": [
    "### Python auto fill in indexes front[0] and back[-1]\n",
    "- First of index is always 0\n",
    "- Last of index is -1 \n",
    "- Able to count back (Negative Numbers)\n",
    "- Using [start_index:end_index] where end index is exclusive"
   ],
   "cell_type": "code",
   "metadata": {},
   "execution_count": 9,
   "outputs": [
    {
     "output_type": "error",
     "ename": "SyntaxError",
     "evalue": "invalid syntax (<ipython-input-9-1ea2edca7ee4>, line 2)",
     "traceback": [
      "\u001b[0;36m  File \u001b[0;32m\"<ipython-input-9-1ea2edca7ee4>\"\u001b[0;36m, line \u001b[0;32m2\u001b[0m\n\u001b[0;31m    - First of index is always 0\u001b[0m\n\u001b[0m            ^\u001b[0m\n\u001b[0;31mSyntaxError\u001b[0m\u001b[0;31m:\u001b[0m invalid syntax\n"
     ]
    }
   ]
  },
  {
   "cell_type": "code",
   "execution_count": 1,
   "id": "44757d32",
   "metadata": {},
   "outputs": [
    {
     "name": "stdout",
     "output_type": "stream",
     "text": [
      "He\n"
     ]
    }
   ],
   "source": [
    "str = \"Hello\"\n",
    "sub_str = str[:2]\n",
    "print(sub_str)"
   ]
  },
  {
   "cell_type": "markdown",
   "id": "84430964",
   "metadata": {},
   "source": [
    "### Strings\n",
    "Python Strings are immutable: you have to reassign the strings"
   ]
  },
  {
   "cell_type": "code",
   "execution_count": 5,
   "id": "4066cc21",
   "metadata": {},
   "outputs": [],
   "source": [
    "foo = \"Hello, partner!\"\n",
    "foo = \"Jello, partner!\" # 1st way of changing H to J (re-declare foo)\n",
    "foo = \"J\" + foo[1:]     # 2nd way of changing H to J (string-building approach)\n"
   ]
  },
  {
   "cell_type": "code",
   "execution_count": 3,
   "id": "acea0d6a",
   "metadata": {},
   "outputs": [
    {
     "name": "stdout",
     "output_type": "stream",
     "text": [
      "In a hole in the ground there lived a hobbit. Not a nasty, dirty, wet hole, filled with the ends of worms and an oozy smell, nor yet a dry, bare, sandy hole with nothing in it to sit down on or to eat: it was a hobbit-hole, and that means comfort.\n"
     ]
    }
   ],
   "source": [
    "long_string = \"In a hole in the ground there lived a hobbit. \" \\\n",
    "              \"Not a nasty, dirty, wet hole, \" \\\n",
    "              \"filled with the ends of worms and an oozy smell, \" \\\n",
    "              \"nor yet a dry, bare, sandy hole \" \\\n",
    "              \"with nothing in it to sit down on or to eat: \" \\\n",
    "              \"it was a hobbit-hole, \" \\\n",
    "              \"and that means comfort.\"\n",
    "print(long_string)"
   ]
  },
  {
   "cell_type": "markdown",
   "id": "990b135f",
   "metadata": {},
   "source": [
    "One can also use Multiline String (often use as comments)"
   ]
  },
  {
   "cell_type": "code",
   "execution_count": 4,
   "id": "f4107898",
   "metadata": {},
   "outputs": [],
   "source": [
    "\"\"\"\n",
    "This is A way to comment out things in your python code \n",
    "\n",
    "Declare variables and such ...\n",
    "\n",
    "\"\"\"\n"
   ]
  }
 ],
 "metadata": {
  "kernelspec": {
   "name": "python391jvsc74a57bd07812ea015bdcee6f23a998adcdd2ef97c151c0c241b7b7070987d9313e41299d",
   "display_name": "Python 3.9.1 64-bit ('3.9')"
  },
  "language_info": {
   "codemirror_mode": {
    "name": "ipython",
    "version": 3
   },
   "file_extension": ".py",
   "mimetype": "text/x-python",
   "name": "python",
   "nbconvert_exporter": "python",
   "pygments_lexer": "ipython3",
   "version": "3.9.1"
  },
  "widgets": {
   "application/vnd.jupyter.widget-state+json": {
    "state": {},
    "version_major": 2,
    "version_minor": 0
   }
  }
 },
 "nbformat": 4,
 "nbformat_minor": 5
}