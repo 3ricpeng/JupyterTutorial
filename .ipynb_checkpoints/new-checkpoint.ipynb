{
 "cells": [
  {
   "cell_type": "markdown",
   "id": "46158878",
   "metadata": {},
   "source": [
    "# A Python Primer "
   ]
  },
  {
   "cell_type": "markdown",
   "id": "c6e0f106",
   "metadata": {},
   "source": [
    "### Swap Value of 2 Variable"
   ]
  },
  {
   "cell_type": "code",
   "execution_count": 2,
   "id": "1a63fa3d",
   "metadata": {
    "scrolled": true
   },
   "outputs": [
    {
     "name": "stdout",
     "output_type": "stream",
     "text": [
      "10 20\n",
      "20 10\n"
     ]
    }
   ],
   "source": [
    "first_num = 10\n",
    "second_num = 20\n",
    "print(first_num, second_num)\n",
    "first_num, second_num = second_num, first_num\n",
    "print(first_num, second_num)"
   ]
  },
  {
   "cell_type": "markdown",
   "id": "cccffeb7",
   "metadata": {},
   "source": [
    "### Snake Case vs Camel Case"
   ]
  },
  {
   "cell_type": "code",
   "execution_count": null,
   "id": "d12a7f42",
   "metadata": {},
   "outputs": [],
   "source": [
    "snake_case_variable_naming vs CamelCaseNaming"
   ]
  },
  {
   "cell_type": "markdown",
   "id": "2233c63f",
   "metadata": {},
   "source": [
    "### None Type: `None` (similar to `null`)"
   ]
  },
  {
   "cell_type": "code",
   "execution_count": 2,
   "id": "fbb588a6",
   "metadata": {},
   "outputs": [
    {
     "name": "stdout",
     "output_type": "stream",
     "text": [
      "None\n"
     ]
    }
   ],
   "source": [
    "a = None \n",
    "print(a)"
   ]
  },
  {
   "cell_type": "markdown",
   "id": "b473708a",
   "metadata": {},
   "source": [
    "### Python auto fill in indexes front[0] and back[-1]\n",
    "- First of index is always 0\n",
    "- Last of index is -1 \n",
    "- Able to count back (Negative Numbers)\n",
    "- Using [start_index:end_index] where end index is exclusive"
   ]
  },
  {
   "cell_type": "code",
   "execution_count": 1,
   "id": "44757d32",
   "metadata": {},
   "outputs": [
    {
     "name": "stdout",
     "output_type": "stream",
     "text": [
      "He\n"
     ]
    }
   ],
   "source": [
    "str = \"Hello\"\n",
    "sub_str = str[:2]\n",
    "print(sub_str)"
   ]
  },
  {
   "cell_type": "code",
   "execution_count": null,
   "id": "d983cd6a",
   "metadata": {},
   "outputs": [],
   "source": []
  },
  {
   "cell_type": "code",
   "execution_count": null,
   "id": "acea0d6a",
   "metadata": {},
   "outputs": [],
   "source": []
  },
  {
   "cell_type": "code",
   "execution_count": null,
   "id": "a66578fd",
   "metadata": {},
   "outputs": [],
   "source": []
  }
 ],
 "metadata": {
  "kernelspec": {
   "display_name": "Python 3",
   "language": "python",
   "name": "python3"
  },
  "language_info": {
   "codemirror_mode": {
    "name": "ipython",
    "version": 3
   },
   "file_extension": ".py",
   "mimetype": "text/x-python",
   "name": "python",
   "nbconvert_exporter": "python",
   "pygments_lexer": "ipython3",
   "version": "3.9.1"
  },
  "widgets": {
   "application/vnd.jupyter.widget-state+json": {
    "state": {},
    "version_major": 2,
    "version_minor": 0
   }
  }
 },
 "nbformat": 4,
 "nbformat_minor": 5
}
